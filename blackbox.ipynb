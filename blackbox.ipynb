{
 "cells": [
  {
   "cell_type": "code",
   "execution_count": 1,
   "metadata": {},
   "outputs": [
    {
     "data": {
      "text/plain": [
       "<torch.autograd.grad_mode.set_grad_enabled at 0x795138924830>"
      ]
     },
     "execution_count": 1,
     "metadata": {},
     "output_type": "execute_result"
    }
   ],
   "source": [
    "import transformers\n",
    "import torch\n",
    "import torch.nn as nn\n",
    "import torch.nn.functional as F\n",
    "from IPython.display import display, Markdown, Latex\n",
    "from transformers import AutoTokenizer, AutoModelForCausalLM\n",
    "from datasets import load_dataset\n",
    "from tqdm.notebook import tqdm\n",
    "\n",
    "from util import reconstruct_prompt\n",
    "\n",
    "device = \"cuda\"\n",
    "torch.set_grad_enabled(False)"
   ]
  },
  {
   "cell_type": "code",
   "execution_count": 2,
   "metadata": {},
   "outputs": [
    {
     "name": "stderr",
     "output_type": "stream",
     "text": [
      "Sliding Window Attention is enabled but not implemented for `sdpa`; unexpected results may be encountered.\n"
     ]
    }
   ],
   "source": [
    "model = AutoModelForCausalLM.from_pretrained(\"deepseek-ai/DeepSeek-R1-Distill-Qwen-1.5B\").to(device)\n",
    "tokenizer = AutoTokenizer.from_pretrained(\"deepseek-ai/DeepSeek-R1-Distill-Qwen-1.5B\")\n",
    "\n",
    "dataset = load_dataset(\"immindich/reasoning-steps-labeled\")"
   ]
  },
  {
   "cell_type": "code",
   "execution_count": 3,
   "metadata": {},
   "outputs": [
    {
     "name": "stdout",
     "output_type": "stream",
     "text": [
      "80\n",
      "80\n"
     ]
    }
   ],
   "source": [
    "import random\n",
    "\n",
    "def get_step_data(key):\n",
    "    sample_size = 80\n",
    "    step_prompts = []\n",
    "    steps = []\n",
    "    step_lengths = []\n",
    "\n",
    "    for problem in dataset[\"train\"].shuffle(seed=42):\n",
    "        if problem[key]:\n",
    "            step = random.choice(problem[key])\n",
    "            prompt = tokenizer.encode(reconstruct_prompt(tokenizer, problem, step), return_tensors=\"pt\", add_special_tokens=False).to(device)\n",
    "            step_prompts.append(prompt)\n",
    "            step_lengths.append(step)\n",
    "            steps.append(tokenizer.encode(problem[\"steps\"][step]))\n",
    "\n",
    "        if len(step_prompts) >= sample_size:\n",
    "            break\n",
    "\n",
    "    return step_prompts, steps, step_lengths\n",
    "\n",
    "conclusion_step_prompts, conclusion_steps, conclusion_step_lengths = get_step_data(\"conclusion_steps\")\n",
    "verification_step_prompts, verification_steps, verification_step_lengths = get_step_data(\"verification_steps\")\n",
    "\n",
    "print(len(conclusion_step_prompts))\n",
    "print(len(verification_step_prompts))"
   ]
  },
  {
   "cell_type": "code",
   "execution_count": 6,
   "metadata": {},
   "outputs": [],
   "source": [
    "def generate_completions(prompts, batch_size=2, num_batches=5):\n",
    "    completions = []\n",
    "    for prompt in tqdm(prompts):\n",
    "        # Generate 15 sequences in 3 batches of 5\n",
    "        max_length = 10\n",
    "\n",
    "        prompt_completions = []\n",
    "        \n",
    "        for batch in range(num_batches):\n",
    "            outputs = model.generate(\n",
    "                input_ids=prompt,\n",
    "                max_new_tokens=max_length,\n",
    "                num_return_sequences=batch_size,\n",
    "                pad_token_id=tokenizer.eos_token_id\n",
    "            )\n",
    "            \n",
    "            for output in outputs:\n",
    "                generated_text = tokenizer.decode(output[prompt.shape[1]:], skip_special_tokens=True)\n",
    "                prompt_completions.append(generated_text)\n",
    "\n",
    "        completions.append(prompt_completions)\n",
    "\n",
    "    return completions\n"
   ]
  },
  {
   "cell_type": "code",
   "execution_count": 7,
   "metadata": {},
   "outputs": [
    {
     "data": {
      "application/vnd.jupyter.widget-view+json": {
       "model_id": "ddc384f6ae6b47fe87246fd908fd51aa",
       "version_major": 2,
       "version_minor": 0
      },
      "text/plain": [
       "  0%|          | 0/80 [00:00<?, ?it/s]"
      ]
     },
     "metadata": {},
     "output_type": "display_data"
    },
    {
     "name": "stderr",
     "output_type": "stream",
     "text": [
      "The attention mask is not set and cannot be inferred from input because pad token is same as eos token. As a consequence, you may observe unexpected behavior. Please pass your input's `attention_mask` to obtain reliable results.\n"
     ]
    },
    {
     "data": {
      "application/vnd.jupyter.widget-view+json": {
       "model_id": "203b9a7839ae4e49b104e7a894d860fa",
       "version_major": 2,
       "version_minor": 0
      },
      "text/plain": [
       "  0%|          | 0/80 [00:00<?, ?it/s]"
      ]
     },
     "metadata": {},
     "output_type": "display_data"
    }
   ],
   "source": [
    "verification_completions = generate_completions(verification_step_prompts)\n",
    "conclusion_completions = generate_completions(conclusion_step_prompts, batch_size=1, num_batches=10)"
   ]
  },
  {
   "cell_type": "code",
   "execution_count": 10,
   "metadata": {},
   "outputs": [
    {
     "name": "stdout",
     "output_type": "stream",
     "text": [
      "[['Hmm, that seems correct. Let me try another', \"Yep, that seems correct. I don't think\", \"I think that's correct. It's always good\", \"Yes, that seems correct. I don't think\", \"It all seems to add up. I don't\", \"Yes, that all makes sense. I don't\", \"Yeah, that seems correct. I don't think\", \"I think that's correct. It's always good\", \"So, I think that's correct. It's\", \"Yes, that all seems correct. I don't\"], [\"I think I'm confident that the slope is \\\\(\", \"I think I'm confident with this answer now.\\n\\n\", \"I think that's thorough. I can't find\", 'Just to be thorough, let me plug in another', \"Therefore, I'm confident that the ordered pair is\", \"I think I'm confident that the slope-intercept\", 'Wait, but let me just confirm the arithmetic one', \"I think I've verified it multiple ways, so\", \"I think I'm confident now that the slope is\", 'Just to be thorough, let me plug in another'], ['**Final Answer**\\nThe number is \\\\boxed{', '**Final Answer**\\nThe number is \\\\boxed{', '**Final Answer**\\nThe number is \\\\boxed{', '**Final Answer**\\nThe number is \\\\boxed{', '**Final Answer**\\nThe number is \\\\boxed{', '**Final Answer**\\nThe number is \\\\boxed{', '**Final Answer**\\nThe number is \\\\boxed{', '**Final Answer**\\nThe number is \\\\boxed{', '**Final Answer**\\nThe number is \\\\boxed{', '**Final Answer**\\nThe number is \\\\boxed{'], [\"Wait, let me just make sure I didn't\", \"I think I've covered all the angles here.\", 'Wait, could I have messed up the calculation of', 'Wait, just to make sure, let me convert', \"I think I've verified it sufficiently. So,\", 'Wait, another way to think about it: in', \"I think I've considered all the angles and quadr\", 'Wait, could I have messed up the conversion from', \"I think I've considered this from multiple angles,\", 'Wait, just to make sure, let me also'], [\"I think that's solid. I've checked it\", \"I think that's solid. I've checked it\", \"I think that's solid. I don't see\", \"I think that's solid. I don't see\", \"I think that's solid. I don't see\", \"I don't think I made any mistakes here because\", \"I think that's solid. Let me just visualize\", \"I think that's solid. I've used three\", \"I think that's solid. I've checked it\", \"I think that's solid. I don't see\"], [\"So, I think I'm confident that the answer\", \"So, I think I'm confident that 4\", 'Alternatively, maybe I can use the multiplicative formula', 'Alternatively, if I think about it as 3', \"So, I think I've verified it multiple ways\", 'Alternatively, maybe I can think of 31', \"So, I think I've verified it multiple times\", 'So, I think I can be confident that the', 'Alternatively, maybe I can do it in another order', 'So, after multiple ways of computing it, I'], [\"I think that's the answer.\\n\\n**Final Answer\", \"I think that's the final answer. But just\", \"I think that's solid. I don't see\", 'Therefore, the final answer is 12.\\n\\n', \"I don't think I made any mistakes here.\", \"I don't see any mistakes here. So,\", \"I don't see any mistakes in my reasoning here\", \"I don't see any mistakes in my reasoning.\", \"I think that's it. I don't see\", 'Hmm, just to make sure, is there any'], ['So, both methods lead me to the same answer', 'I guess another way to approach this is by understanding', 'So, I think I did this right. The', 'Hmm, so both methods give me the same answer', 'I guess another way to think about it is,', 'So, both methods give me 9. Therefore', \"Just to make sure I didn't confuse anything,\", \"Therefore, I'm confident that f inverse of \", 'So, I think I did this right. The', 'Just to recap, the steps were:\\n1.'], ['Therefore, I think the answer is \\\\( \\\\tan', \"Alternatively, let's check if angle A satisfies \\\\(\", 'Let me also check the earlier step where I squared', 'But just to make sure, let me check back', 'Alternatively, let me check if I can get \\\\(', \"So, I think that's the answer: \\\\(\", 'Therefore, the value of \\\\( \\\\tan A \\\\', 'Therefore, I think the answer is \\\\( \\\\frac', \"Alternatively, let's think about the area again.\", 'Therefore, the answer should be \\\\( \\\\frac{'], [\"Yeah, that seems consistent. I don't think\", \"Yes, that seems correct. I don't think\", \"Yes, that seems correct. I don't see\", \"Yep, that seems correct. I don't think\", \"Yes, that seems correct. I don't think\", 'Yep, that seems consistent. So, I don', \"Yes, that seems correct. I don't think\", 'Yes, that seems consistent. So, I think', 'Yes, that seems consistent. So, I don', \"Yep, that seems right. I don't think\"], [\"So, I think I'm confident that x =\", 'Wait, actually, let me think about the behavior', 'Wait, actually, the left side is |5', 'Wait, actually, let me think about that.', 'Wait, hold on, let me think about that', 'Wait, actually, let me think about the slopes', 'Wait, is that always the case? Let me', 'Therefore, I feel confident that 1 is the', 'Wait, actually, hold on. The left side', 'So, yeah, I think I can confidently say'], [\"So, I don't think I made any mistakes\", \"Therefore, I'm confident that the number of nick\", \"I don't think I made any mistakes here,\", \"I think that's thorough. I don't see\", 'Therefore, I can confidently say that Hillary has ', 'Therefore, I can confidently say that Hillary has ', 'Therefore, I can confidently say that Hillary has ', 'Therefore, I can confidently say that the number of', 'Therefore, I can confidently say that Hillary has ', 'Therefore, I can confidently say that Hillary has '], [\"So, I think that's the answer. The\", \"I guess that's it then. The curve passes\", 'I guess another way to check is to maybe compute', \"I guess that's it. So, the curve\", 'I guess the only thing that might trip me up', \"I think that's all there is to it.\", \"I don't think I need to do anything else\", 'I guess another way to check is to see if', \"I think that's the answer. So, the\", \"So, I think that's the answer.\\n\\n**\"], [\"I think I've covered all possible ways to approach\", \"I think that's solid. I don't see\", \"So, I think I'm confident that the modulus\", 'So, whether I compute it directly or break it', \"So, I think I'm confident that |w\", 'Hence, the modulus of w is 5', \"So, I think that's thorough enough. I\", \"So, I think that's solid.\\n\\n**Final\", \"I think I'm confident now that 5/\", \"Therefore, I'm confident that the modulus of w\"], ['Wait, let me think about how exponents work', 'Wait, let me think about the properties of ex', 'So, putting it all together, no matter how', 'So, putting it all together, I think the', 'So, putting it all together, the expression \\\\(', 'So, after thinking through all these angles, I', 'So, putting it all together, I think I', 'So, putting it all together, \\\\(1^{', 'So, putting it all together, regardless of the', 'So, putting it all together, I think it'], ['Alternatively, maybe using mass point or area ratios.\\n\\n', 'Alternatively, think about the centroid divides the median in', 'Alternatively, let me think about the properties of the', 'Alternatively, let me think about the centroid. The', 'So, I think 8 is the answer.\\n\\n', 'Alternatively, let me think about the centroid.\\n\\nSince', 'So, I think the answer is 8.\\n\\n', 'Wait, but let me think again.\\n\\nIn our', 'Alternatively, since the centroid divides the medians into', 'Alternatively, maybe using mass point geometry.\\n\\nBut since'], [\"Wait, let me think if there's any other\", 'Wait, let me think again about the formula.', \"I think I'm confident with this answer. So\", 'So, putting it all together, the height of', 'So, putting it all together, the height of', 'Wait, just to make sure, let me go', \"I think I'm confident that h is 5\", \"I don't think I made any mistakes here.\", 'Just to recap:\\n\\n- Volume = 45', 'Therefore, I think I did everything right. The'], [\"Therefore, I'm confident the answer is 3\", 'Therefore, the sum of the roots of \\\\( g', \"So, I'm confident that the sum of the\", 'Therefore, the answer is 34.\\n\\n**', 'Therefore, the answer is 34.\\n\\n**', 'Therefore, the answer is 34.\\n\\n**', \"I think that's solid. I can't see\", \"I think I've double-checked enough. I can\", \"Therefore, I'm confident that the sum of the\", \"I think that's solid. I can't think\"], [\"I think that's solid. So, no mistakes\", \"I think I'm confident now that 5.\", \"I think that's solid. So, I can\", 'Alternatively, maybe I can factor the expression \\\\( (', \"I think I've covered all my bases here.\", 'Alternatively, another way to approach this is to recognize', 'Alternatively, maybe I can factor the expression inside the', \"I think I've got this. So, the\", 'So, no mistakes there. So, I think', \"So, I think I've double-checked all the\"], ['Therefore, the only positive integer solution is $n', 'Therefore, the only solution is $n = ', 'Hence, the only solution is $n =', 'Therefore, n = 4 is the only integer', 'So, the only solution is $n = ', 'Therefore, $n = 4$ is the', 'So, seems like $n = 4$', 'So, only $n = 4$ works', 'So, indeed, $n = 4$', 'Therefore, n=4 is the only solution.\\n\\n'], ['Either method works, but expressing 256', 'Either method works, but since 256', 'Either way, whether I manipulate the exponents first', \"Alternatively, if I didn't see that 2\", \"Alternatively, if I didn't see that 2\", \"Alternatively, if I didn't see that 2\", 'Alternatively, if I wanted to use logarithms,', 'Either method works, but using the same base is', \"Alternatively, if I didn't see 25\", 'Either way, whether I rewrite 256'], [\"Wait, let me think if there's another way\", 'Wait, but let me think about it another way', \"I don't think there's any other way to\", \"I don't see any flaws in this reasoning.\", 'Alternatively, if we think in terms of sets,', 'Wait, but hold on a second. The problem', \"Wait, just to ensure I'm not missing something\", \"I think that's solid. So, the answer\", 'Alternatively, thinking about it as Yann choosing a', 'Therefore, I feel confident that the answer is '], ['So, yeah, I think 17 is', \"I think I've covered all the bases here.\", 'Alternatively, if I had a parabola that', 'Therefore, I think I can be confident that the', 'Alternatively, if I had to graph it, I', 'Therefore, I think I can confidently say that \\\\(', 'Therefore, I think I can confidently say that \\\\(', 'Alternatively, if I graph the two points, (', \"So, I think I'm confident now that the\", 'So, all in all, I think \\\\( a'], ['Alternatively, using exponents: 2^6', 'Therefore, I can confidently say that $\\\\log_', 'So, I can confidently say that the value of', 'So, I think I can confidently say that the', 'Alternatively, I can use the exponent rules. Since', 'So, I think I can confidently say that the', 'Alternatively, I can use logarithm tables or a', \"So, putting it all together, I'm confident\", 'Alternatively, I can use logarithm tables or a', 'So, I think I can confidently say that the'], ['I think I can also explain why this works.', \"I think I've covered all the bases here.\", \"I think that's thorough enough. I've used\", 'I think this method is actually pretty straightforward once you', \"It's interesting because sometimes when converting, especially with\", \"I think this is solid. I've checked it\", 'This method also solidifies my confidence in the answer', \"I think that's solid. I mean, all\", 'Wait, I just thought of something. When I', \"Wait, just to make sure, let's write\"], [\"Wait, just to make sure I didn't make\", \"I don't think I made any mistakes here.\", \"I think that's it. It wasn't too\", \"Wait, just to make sure I didn't make\", 'I think that wraps it up. The key was', \"Wait, just to make sure I didn't skip\", 'Wait a second, let me make sure I didn', \"I think that's the answer. Let me just\", \"Wait, just to make sure I didn't miss\", \"I think that's it. I can't see\"], ['Therefore, the answer should be 30 degrees', 'But just to be thorough, let me compute the', 'Wait, but just to be thorough, maybe I', 'But wait, just to make sure, is triangle', 'But hold on, is triangle PQS a right', 'Wait, but hold on. The triangle PQS', 'But just to be thorough, let me consider if', \"But just to make sure, let's think about\", 'Wait, but hold on a second. In the', 'Wait, but just to make sure, maybe I'], ['Therefore, the vector **v** with the smallest', 'Therefore, the vector **v** with the smallest', 'Therefore, the vector **v** with the smallest', 'Therefore, the vector **v** with the smallest', 'Therefore, the vector **v** with the smallest', 'Therefore, the vector **v** with the smallest', 'Therefore, the vector **v** with the smallest', 'Therefore, the vector **v** with the smallest', 'Therefore, the vector **v** with the smallest', 'Therefore, the vector **v** with the smallest'], [\"I think that's solid. So, the answer\", 'So, after simplifying the expression, plugging', 'I think this is solid. I tried multiple approaches', \"Just to make sure, let's try another approach\", \"I think that's solid. So, the answer\", 'So, in conclusion, the value of the expression', \"I think that's solid. I checked it in\", 'Wait, another way: perhaps I can compute each', 'So, whether I simplify the expression first or factor', 'So, through multiple approaches—simplifying the'], ['Therefore, I can confidently say that x=2', 'So, after all this analysis, I can conclude', 'Therefore, after all these checks, I can confidently', 'Therefore, the solution is x=2.\\n\\nBut', 'Therefore, the solution is x=2.\\n\\nI', 'Therefore, the solution is x=2.\\n\\nI', 'Therefore, the solution is x=2.\\n\\n**', 'Therefore, the solution is x=2.\\n\\nBut', 'So, I think I can confidently say that x', 'Therefore, the solution is x=2.\\n\\n**'], ['Alternatively, I can use the formula for interior angles', 'Therefore, the number of sides is 15', 'Therefore, the polygon has 15 sides.', 'I think that makes sense. So, the number', 'Therefore, the polygon has 15 sides.', 'Alternatively, I remember that the interior angle can also', 'I think that makes sense. So, the number', 'Alternatively, I know that the formula for the interior', \"Just to make sure, let's recall that the\", 'So, yeah, the polygon has 15'], [\"Another thought: if I didn't know the perimeter\", 'So, to sum it up, the key steps', 'So, yeah, I think 12 cm', \"So, yeah, I think I've got this\", \"So, yeah, I think I've thought through\", 'In summary, the key steps were:\\n\\n- Calculate', 'Wait, just thinking about the Asymptote', 'Another thought: if I were to calculate the area', \"So, yeah, I think that's all.\", 'In summary, after carefully considering different approaches and verifying'], [\"Just to make sure, maybe I'll think about\", 'Is there a way to represent this in a different', 'So, the value of 9 & 2', 'Is there any chance I could have misapplied', 'Is there any chance I could have mixed up the', \"I wonder if there's a way to simplify this\", \"I wonder if there's another way to look at\", 'I wonder if I can express it in another way', 'I wonder if I can represent that as a mixed', 'I guess another way to look at it is to'], ['Therefore, the answer is 202.\\n\\n', 'Therefore, the final answer is 202', 'Therefore, I think that should be the answer.\\n\\n', 'Therefore, the answer is 202.\\n\\n', 'Therefore, the answer is 202.\\n\\n', 'Therefore, the answer is 202.\\n\\n', 'Therefore, the answer is 202.\\n\\n', 'Therefore, the answer is 202.\\n\\n', 'Therefore, the answer is 202.\\n\\n', 'Therefore, the answer is 202.\\n\\n'], ['Just to recap, dot product is about multiplying each', 'Just to recap:\\n\\nDot product:\\n\\n1. Multiply', \"So, in conclusion, I think I've done\", 'Just to recap, the dot product is a way', 'So, just to recap, the steps I took', 'Wait, just to make sure, maybe I can', 'Just to explore that, if I were to add', 'So, to recap: I multiplied each pair of', 'Wait, just to ensure I understand, the dot', \"Wait, actually, let me make sure I'm\"], [\"I think that's solid. So, the answer\", 'Wait, just to make sure, another way:', 'Therefore, the answer is 36 seconds.\\n\\n', \"Wait, just to ensure I'm not missing anything\", 'Alternatively, if I think about how many rotations each', \"So, I think I'm confident the answer is\", 'Therefore, I think the answer is 36', \"I think that's solid. I don't see\", \"I think that's the answer. I don't\", 'Wait, let me just think again. So,'], ['Hmm, that seems consistent. So, angle B', 'Wait, 28° + 15', 'Therefore, it seems my answer is consistent with the', 'Wait, let me see: arc BC is ', 'Wait, is that correct? Let me check:', 'Wait, 28 + 152', 'Hmm, that seems consistent. So, angle B', 'So, everything seems consistent. Therefore, I can', 'Wait, hold on, maybe I should clarify the', 'Wait, 28 + 152'], ['But wait, just to be thorough, let me', \"Alternatively, if I didn't factor, I could\", \"I think that's thorough enough. I considered multiple\", \"I think that's solid. I don't see\", \"I think I'm confident that 49 is\", 'Wait, but hold on, 49 is', 'But hold on, just to make sure, let', 'Just to think if I could have made any mistakes', \"Alternatively, if I didn't factor, I could\", \"I think that's thorough. I considered different methods\"], ['So, to summarize: the product of 1', 'Wait, just thinking about whether I considered all possible', 'So, summarizing my thought process: I first', 'So, just to recap the steps: multiply ', 'Wait, hold on, just to ensure I didn', 'Therefore, the positive square root of the product ', 'So, summarizing my thought process: I first', 'So, to summarize my thought process: I first', 'So, summarizing my thought process: I started', 'In summary, breaking down the product into prime factors'], [\"Another way: Let's compute the total gasoline used\", \"Yeah, I think that's solid. So,\", \"Yeah, I think that's solid. So,\", \"Yeah, I think that's solid. So,\", 'Alternatively, maybe using unit analysis to see if the', 'Yeah, that seems solid. So, I think', 'So, yeah, I think 550', 'Yeah, so I think 550 gallons', 'Yeah, that seems consistent. So, I think', 'Yeah, that makes sense. So, I think'], ['So, regardless of the method, the result is', 'So, yeah, 52_8 is', 'So, again, 52_8.\\n\\n', 'So, all right, that seems consistent.\\n\\nWait', \"So, that's consistent.\\n\\nI guess another way\", 'So, either way, whether I convert to decimal', 'Therefore, the product is 52_8', 'So, that makes sense.\\n\\nTherefore, whether I', 'Therefore, the product is 52_8', 'So, that seems consistent.\\n\\nTherefore, I think'], ['Therefore, I think 0.274', 'Therefore, I think I can confidently say that the', 'Therefore, I think I can confidently say that the', \"Therefore, I think it's safe to say that\", 'Therefore, the decimal is 0.27', 'Therefore, 0.274 is the', 'Therefore, I can confirm that the decimal expansion is', 'Therefore, 0.274 is the', 'Therefore, I can confirm that the decimal expansion is', 'So, whether I perform the division step by step'], [\"So, I think I'm confident that 8\", \"Therefore, I'm confident that the value of the\", \"So, I think I'm confident that the value\", 'So, just to recap, whether I compute step', \"I think that's solid. So, yeah,\", \"Just to recap, I think I'm confident that\", 'Wait, just to make sure, let me compute', \"I think that's pretty solid. I went through\", \"So, I think I'm confident that 8\", \"So, yeah, I think that's solid.\"], ['Let me just verify my steps again to make sure', 'Let me just recap what I did. Found the', \"Let me just make sure I didn't make any\", \"Just to make sure I didn't make any mistakes\", 'Let me just go through the steps again to make', \"Let me just make sure I didn't make any\", 'Let me just verify my steps again to make sure', 'Let me verify my steps once more to make sure', 'So, yeah, the expression simplifies to \\\\', 'Just to make sure, let me go through the'], [\"So, yes, it's consistent.\\n\\nTherefore,\", \"So, yes, it's 1.\\n\\nTherefore\", 'So, seems solid.\\n\\nTherefore, f(2', 'So, yes, for i=5, it', 'Hence, yes, it seems that the function', 'So, yes, the function stabilizes at i', 'So, yes, I think that is correct.\\n\\n', 'So, indeed, f(5, j)=', 'So, yes, f(5, j)=', 'So, yes, for i≥5, f'], ['So, the domain is [1, 2', 'Therefore, the smallest integer x is 1 because', 'Therefore, the smallest integer in this domain is x', 'Therefore, the smallest integer in this domain is ', 'Therefore, the smallest integer x in the domain is', 'So, the domain is [1, 2', 'Therefore, the smallest integer in this domain is x', \"So, in integers, that's x = \", 'Therefore, the domain is [1, 2', 'Therefore, the smallest integer in the domain is x'], ['Alternatively, if I think in terms of the inverse', 'Alternatively, if I think of it as two function', \"I think that's pretty much it. I can\", 'Alternatively, if I had to explain it in another', \"I think that's pretty much it. I can\", 'Another thought: sometimes, when people are confused about', 'Alternatively, I can think of it as f inverse', \"Alternatively, if I didn't know f inverse,\", 'Alternatively, if I had to write it out in', 'Alternatively, if I think about the composition of functions'], [\"I don't think I made any mistakes here.\", \"I wonder if there's another way to approach this\", 'I guess I could also think about the difference between', \"I think I'm confident with this answer. It\", 'I guess I was just surprised that the eraser', 'I was a bit thrown off because a jumbo', 'I guess the only thing is, 29', 'I was a bit thrown off by the high cost', 'So, despite the high cost, the pencil is', \"I wonder if there's another way to think about\"], ['Alternatively, maybe I can think about it in terms', 'Alternatively, I can think of it as 3', 'I think I got it. So, the fraction', 'I think I got it. So, 3', 'Alternatively, I can think about the ratio of inches', \"I don't think I made any calculation errors here\", 'Alternatively, maybe I can think about it in terms', \"I don't think I missed anything here. The\", \"I don't think I made any mistakes here.\", 'Alternatively, I could think of it as a ratio'], ['Therefore, the number of treeks equal to the', 'Therefore, the number of treeks equal to one', 'Therefore, the number of treeks equal to one', 'Therefore, the number of treeks equal to the', 'Therefore, yes, n is 3. So', 'Therefore, n must be 3. So,', \"Therefore, n = 3.\\n\\nI don't\", 'Therefore, the number of treeks equal to one', 'Therefore, the number of treeks equaling one', 'Therefore, n = 3 is the correct answer'], [\"I think that's the correct answer.\\n\\n**Final\", \"I think that's the correct answer.\\n\\n**Final\", \"I think that's solid. I don't see\", \"I don't see any flaws in this reasoning.\", \"I think that's the answer.\\n\\n**Final Answer\", \"I think that's the correct answer.\\n\\n**Final\", 'Wait, is there any chance I made a mistake', \"I think that's solid. I don't see\", \"I think that's solid. I don't see\", \"I think that's solid. I don't see\"], ['Hence, the coordinates of P are (8', 'Hence, the coordinates of P are (8', 'Hence, P is at (8, -', 'So, that must be the answer. Therefore,', 'But just to make sure, let me graph it', 'But hold on, when I set up the equations', 'So, the coordinates of point P are (8', 'Hence, P is at (8, -', 'Therefore, the answer should be (8, -', 'But wait, in my earlier reasoning, I thought'], ['Therefore, the positive solution is 66.\\n\\n', 'Alternatively, just to explore another way, let me', 'But just to recap, the steps are:\\n\\n1', 'I was also thinking, is there another way to', 'Alternatively, another way to think about it is:', 'Alternatively, another way to approach it is to solve', 'I wonder, could I have approached this equation another', 'Alternatively, just to go through the steps again:\\n\\n', 'Just to recap the steps: started with the equation', 'Alternatively, I could have approached the equation without fact'], ['Wait, is there any chance that 2%', 'Wait, is 40 calories a lot?', 'Wait, just to make sure, 2%', 'Is there any other way this could be interpreted?', \"I think that's solid. I don't see\", 'Alternatively, if I had to explain this to someone', 'Is there another way someone might misinterpret this?', \"I think that's pretty straightforward. The key here\", \"I don't see any misinterpretation here.\", 'Alternatively, if I thought of it as, \"'], [\"I think that's the answer. But just to\", \"I don't think I made any errors in my\", \"I don't think I made any calculation errors here\", \"I think that's it. It all adds up\", \"I think that's the answer. I don't\", \"I think that's solid. I don't see\", \"I think that's it. It makes sense because\", \"I don't think I made any errors here.\", 'Alternatively, just to be thorough, I could check', \"I don't think I made any calculation errors here\"], [\"I think I'm confident now. So the answer\", 'I think I covered all the bases here. I', \"I don't think I made any mistakes here.\", \"I think I'm confident now that the number of\", \"I think that's thorough enough. I can't\", 'I was a bit worried at first because 1', \"I think that's thorough enough. I considered different\", 'I think I might have been overcomplicating', 'I think I covered all the bases here. I', \"I think I'm confident with this answer. Maybe\"], [\"Therefore, I'm confident that the solution is correct\", 'I think that solidifies my answer. I initially', \"I think that's solid. I don't see\", \"I think that's solid. I don't see\", \"I think that's solid. I don't see\", 'Therefore, I can be confident that x equals ', \"I think that's solid. I can't see\", \"Therefore, I'm confident that the solution is correct\", \"I think that's solid. I don't see\", \"I think that's solid. I don't see\"], [\"Wait, just to think if there's another formula\", 'Wait, just to make sure, let me think', 'So, yeah, the length of the median Q', 'Therefore, I can confidently say that the length of', 'So, yeah, I think 30 is', 'Wait, another thought: in an isosce', 'Alternatively, another formula for the median in terms of', 'But just to ensure, let me consider another approach', 'Wait, another thought: is there a way to', 'Therefore, I can conclude that the length of median'], ['Alternatively, if I think about the original equation:', \"I think that's solid. So, the answer\", 'Alternatively, I can think about the original equation:', 'Wait, just to make sure, let me recall', 'I think that makes sense. So, the equation', 'Alternatively, another way to think about it is that', 'Wait another thought: sometimes, depending on the coefficients', 'Alternatively, maybe I can think of it as a', \"Is there a chance it's a degenerate con\", 'Wait, but sometimes people confuse ellipses and'], ['This thorough approach helps prevent mistakes and reinforces the understanding', 'Each step was double-checked to ensure that I didn', \"I think I've covered all the necessary steps and\", \"Each step was straightforward, but it's important to\", 'Each step was carefully checked, and the answer was', 'All these steps led me to the same answer,', 'Each step was carefully checked, and the results were', 'Throughout this process, I made sure to check each', 'Throughout this process, I made sure to check my', \"It's always good to check your work, especially\"], [\"So, that's another way to see it.\", 'Yes, that makes sense.\\n\\nAlternatively, if I', \"So, that's another way to think about it\", 'Another way: if I have a square with side', 'So, that formula approach also confirms it. So', \"That's a solid formulaic approach as well.\", 'Yes, that formula also confirms it. So,', 'Alternatively, if I think in terms of the original', 'Alternatively, if I think in terms of the original', \"So, yes, that's consistent.\\n\\nTherefore,\"], ['Therefore, 6x + 5 is ', 'Therefore, 6x + 5 when x', 'And then, 6x + 5 with', 'Therefore, calculating 6x + 5 when', 'Therefore, substituting back into 6x +', 'So, then, 6x + 5', 'Therefore, calculating 6x + 5 with', 'So, using x = 3, 6', 'Therefore, 6x + 5 is ', 'Therefore, 6x + 5 when x'], [\"I think that's solid. I don't see\", \"I don't think I made any mistakes here.\", 'I think that makes sense. Let me see if', \"I don't think I made any mistakes here.\", \"I don't think I made any mistakes here,\", 'Wait, but hold on, the question says \"', \"I think that's solid. I don't see\", \"I think that's solid. I don't see\", \"I think that's solid. No mistakes in the\", \"I don't see any mistakes in my calculations,\"], [\"Wait, just to be thorough, let's consider\", 'So, I think I can confidently say that the', 'Is there any chance I could have made a mistake', \"Wait, just to ensure I'm not missing anything\", 'So, I feel confident that the answer is ', 'Wait, just to be thorough, let me think', 'Wait, hold on, just to be thorough,', 'Wait, just to be thorough, let me try', 'Therefore, I feel confident that the answer is ', 'Wait, just to be thorough, let me think'], ['So, to recap:\\n\\n-4 < 2', 'So, the solution is -1 < x <', \"So, after all that, I'm confident that\", 'So, in the end, a is -1', 'So, in conclusion, the solution is -1', 'So, putting it all together, the solution is', 'So, the answer is a + b = -', 'So, in conclusion, the solution to the inequality', 'So, to recap:\\n\\n1. Start with -', 'So, the solution is -1 < x <'], [\"So, yeah, I'm pretty confident that the\", 'I was initially confused because when I thought of ', \"So, I think I'm confident that the original\", 'So, yeah, I think the original price was', 'So, yeah, the original price was $3', 'So, I think I can conclude that the original', \"So, yeah, I'm pretty sure the original\", 'So, yeah, original price is $36', \"So, yeah, I think I'm confident that\", 'So, I can be pretty sure that the original'], [\"I think that's correct.\\n\\n**Final Answer**\\n\", \"Therefore, I think I'm confident that's the\", \"I think that's correct. I can't see\", 'Wait, but let me check if I made a', \"I think that's the correct domain. Let me\", \"I think that's solid.\\n\\n**Final Answer**\\n\", \"I think that's solid. I don't see\", \"I think that's solid. I don't see\", \"I think that's solid. I can't think\", \"Therefore, I think I'm confident with this answer\"], [\"So, I think that's the answer.\\n\\n**\", 'Therefore, the answer is 6.\\n\\nBut just', 'Therefore, the answer is 6.\\n\\n**Final', 'Therefore, the answer is 6.\\n\\n**Final', 'Therefore, the answer is 6.\\n\\n**Final', 'Therefore, the answer is 6.\\n\\n**Final', 'Therefore, the answer is 6.\\n\\n**Final', \"So, I think that's the answer.\\n\\n**\", 'Therefore, the answer is 6.\\n\\nBut wait', 'Therefore, the answer is 6.\\n\\n**Final'], [\"I think that's solid. I don't see\", \"I think that's solid. I don't see\", \"I think I've got it right. The key\", \"I think that's all. I don't see\", 'I think I did everything correctly. I considered the', \"I think that's solid. So, yeah,\", \"I think that's solid. I don't see\", \"I think that's solid. No mistakes detected in\", \"I think that's solid. I don't see\", \"I think that's solid. I don't see\"], [\"Therefore, I think I've thoroughly checked this.\", \"Therefore, I think I'm confident that 1\", 'Therefore, I think 1/4 is definitely', \"I think that's thorough. I can't think\", \"Therefore, I'm confident that the probability is \", 'Alternatively, if I think about it as a grid', \"Yeah, I think that's solid. So,\", \"Alternatively, if I didn't use the probability tree\", \"Alternatively, if I didn't want to list all\", 'Therefore, the probability is 1/4.\\n\\n'], ['Wait, but hold on, 217', \"I think that's the answer. Wait, just\", \"I don't think I made any calculation errors here\", \"I think I've covered all the steps. I\", \"I don't think I made any mistakes here.\", \"I don't think I made any mistakes here.\", \"I think that's the answer. 38\", \"I don't think I made any mistakes here.\", 'Is there any chance I could have made a mistake', \"I don't think I made any errors in my\"], [\"I think I've confirmed it multiple ways: solving\", \"I think I'm confident now that the number of\", 'But just to be thorough, let me plug x', 'Let me just confirm if there are any other possibilities', \"I think that's solid. So, the answer\", 'Let me double-check my calculations.\\n\\nStarting with \\\\(', 'Just to make sure, let me plug in x', 'Alternatively, if I had a parabola that', 'Wait another thought: if the vertex is at (-', 'So, after all that, the answer is '], ['So, after going through this step-by-step,', \"I think that's solid. So, I don\", \"So, I think that's the answer. But\", \"So, I think that's the answer. Let\", '**Final Answer**\\nThe number of boys at the', \"So, I think that's the answer. It\", 'Wait, hold on, just to ensure, let', '**Final Answer**\\nThe number of boys at the', '**Final Answer**\\nThe number of boys at the', \"I think that's the correct answer. I don\"], [\"I think I'm confident that the answer is \", 'Therefore, I think 16 is the correct', 'So, I think I did everything correctly.\\n\\n**', 'So, I think all steps are correct. So', 'So, yeah, I think I did everything correctly', \"I think that's all correct. So, the\", 'So, I think my answer is correct.\\n\\n**', \"So, I think I'm confident that the answer\", \"So, I think that's all correct. Therefore\", \"So, I think that's all correct.\\n\\n**\"], ['Wait, just one last thing. Sometimes when I', \"Thus, I'm confident that the maximum value of\", \"I think I've considered multiple methods: expanding,\", \"I think I've thoroughly checked it. So,\", 'So, after all these steps and cross-verifying', 'Alternatively, I can also graph the function mentally.', 'Hence, I can confidently say that the maximum', 'Alternatively, I can also graph the function to see', \"I think I'm confident now that 81\", \"I think I've approached this problem from multiple angles\"], [\"So, all the different ways I've thought about\", \"So, yeah, I think I'm confident that\", \"So, I think I'm confident now that N\", 'So, another way to think about it is,', 'So, all the different methods I can think of', 'Another way to think about it is using the concept', 'So, all the different ways I think about it', 'So, in conclusion, the value of N is', 'I guess another way to think about it is that', \"Therefore, I'm pretty confident that N is \"], ['Alternatively, maybe using AM-GM inequality.\\n\\nLet', 'So, unless I made a mistake in the setup', 'Therefore, I think I can confidently say that the', \"So, I think that's solid.\\n\\nThus,\", 'Alternatively, if I use the method of substitution,', \"Therefore, I think I'm confident that the maximum\", 'So, I think the answer is 20', 'So, yeah, I think 200', 'So, I think 20000', 'Alternatively, maybe using AM-GM inequality.\\n\\nWe'], [\"I think I've thoroughly checked this. No mistakes\", 'Just to make sure, I can think of it', \"I think I've considered multiple approaches and each time\", \"I think I've considered multiple ways to solve this\", \"Wait, but just to make sure I didn't\", \"I think I've thought through this problem thoroughly.\", 'Wait, just thinking about it differently, maybe using', 'Is there any way this could have a different answer', \"I think that's thorough. I don't see\", \"I think I've thought this through thoroughly. I\"], ['So, yeah, I think 7 is the', 'Alternatively, perhaps I can find the projection of the', 'So, given that, I think the distance is', 'So, I think 7 is the correct answer', 'So, I think 7 is the correct answer', 'Alternatively, since the lines are parallel, the distance', 'Alternatively, another formula for the distance between two parallel', 'So, yes, I think 7 is the', 'So, to recap:\\n\\n1. Find vector AB', 'So, yeah, I think 7 is the'], ['So, just to recap the steps:\\n\\n1.', 'So, in summary, I combined the like terms', 'So, to recap, I had the expression (-', 'Therefore, the simplified form of (-k + ', 'So, to recap, the steps were:\\n\\n1', 'So, in conclusion, after combining like terms,', 'Therefore, the simplified form of (-k + ', 'Therefore, I can conclude that the simplified form of', 'So, in conclusion, the simplified form of (-', 'So, to recap:\\n\\nOriginal expression: (-k']]\n"
     ]
    }
   ],
   "source": [
    "print(conclusion_completions)"
   ]
  },
  {
   "cell_type": "code",
   "execution_count": 11,
   "metadata": {},
   "outputs": [],
   "source": [
    "from anthropic.types.message_create_params import MessageCreateParamsNonStreaming\n",
    "from anthropic.types.messages.batch_create_params import Request\n",
    "def create_batch_requests(prompt_completions):\n",
    "    # create batch of requests\n",
    "    # Create a batch of requests for all problems in the dataset\n",
    "    batch_requests = []\n",
    "    for i, completions in enumerate(prompt_completions):\n",
    "        for j, completion in enumerate(completions):            \n",
    "            user_prompt = f\"\"\"\n",
    "            Attached to this prompt is the output of a language model which reasons step by step by step. The output given to you is the beginning of one of the reasoning steps. Classify the output into one of the following categories.\n",
    "\n",
    "            1. The model is concluding that it has figured out the final answer. In this case, the output should start with something like \"I think I'm confident\" or \"Therefore the answer is\" or \"I don't see any mistakes here\".\n",
    "\n",
    "            2. The model is verifying its work. In this case, the output should start with something like \"Wait, but let me make sure,\" or \"Let me double-check,\" or \"Wait, to make sure\".\n",
    "\n",
    "            3. The output does not seem to fit into the first two categories, or it is not clear what the model is doing.\n",
    "            \n",
    "            Do not respond with anything other than the number of the category. Note that the output may not be a complete sentence, because the model was only asked to generate the first 10 tokens.\n",
    "            \n",
    "            Here is the output of the language model:\n",
    "            \n",
    "            {completion}\n",
    "            \"\"\"\n",
    "            \n",
    "            batch_requests.append(Request(\n",
    "                custom_id = f\"{i}_{j}\",\n",
    "                params=MessageCreateParamsNonStreaming(\n",
    "                    model=\"claude-3-7-sonnet-20250219\",\n",
    "                    max_tokens=100,\n",
    "                    temperature=1,\n",
    "                    system=\"You are a helpful assistant labeling data generated by a language model\",\n",
    "                    messages=[\n",
    "                        {\n",
    "                            \"role\": \"user\",\n",
    "                            \"content\": [\n",
    "                                {\n",
    "                                    \"type\": \"text\",\n",
    "                                    \"text\": user_prompt\n",
    "                                }\n",
    "                            ]\n",
    "                        }\n",
    "                    ]\n",
    "                )\n",
    "            ))\n",
    "\n",
    "    return batch_requests\n",
    "\n",
    "requests_verification = create_batch_requests(verification_completions)\n",
    "requests_conclusion = create_batch_requests(conclusion_completions)\n",
    "\n"
   ]
  },
  {
   "cell_type": "code",
   "execution_count": 12,
   "metadata": {},
   "outputs": [],
   "source": [
    "import dotenv\n",
    "import anthropic\n",
    "\n",
    "dotenv.load_dotenv()\n",
    "import os\n",
    "\n",
    "client = anthropic.Anthropic(\n",
    "    # defaults to os.environ.get(\"ANTHROPIC_API_KEY\")\n",
    "    api_key=os.environ.get(\"ANTHROPIC_API_KEY\"),\n",
    ")"
   ]
  },
  {
   "cell_type": "code",
   "execution_count": 13,
   "metadata": {},
   "outputs": [
    {
     "name": "stdout",
     "output_type": "stream",
     "text": [
      "MessageBatch(id='msgbatch_013iB5mmeyicWvqu1pSzEqRs', archived_at=None, cancel_initiated_at=None, created_at=datetime.datetime(2025, 3, 9, 5, 26, 9, 164344, tzinfo=datetime.timezone.utc), ended_at=None, expires_at=datetime.datetime(2025, 3, 10, 5, 26, 9, 164344, tzinfo=datetime.timezone.utc), processing_status='in_progress', request_counts=MessageBatchRequestCounts(canceled=0, errored=0, expired=0, processing=800, succeeded=0), results_url=None, type='message_batch')\n",
      "MessageBatch(id='msgbatch_01493aRvkd99cxA6WgmyKCxj', archived_at=None, cancel_initiated_at=None, created_at=datetime.datetime(2025, 3, 9, 5, 26, 9, 874414, tzinfo=datetime.timezone.utc), ended_at=None, expires_at=datetime.datetime(2025, 3, 10, 5, 26, 9, 874414, tzinfo=datetime.timezone.utc), processing_status='in_progress', request_counts=MessageBatchRequestCounts(canceled=0, errored=0, expired=0, processing=800, succeeded=0), results_url=None, type='message_batch')\n"
     ]
    }
   ],
   "source": [
    "batch_verification = client.messages.batches.create(requests=requests_verification)\n",
    "batch_conclusion = client.messages.batches.create(requests=requests_conclusion)\n",
    "\n",
    "print(batch_verification)\n",
    "print(batch_conclusion)"
   ]
  },
  {
   "cell_type": "code",
   "execution_count": 14,
   "metadata": {},
   "outputs": [],
   "source": [
    "results_conclusion = list(client.messages.batches.results(\n",
    "    batch_conclusion.id,\n",
    "))\n",
    "\n",
    "results_verification = list(client.messages.batches.results(\n",
    "    batch_verification.id,\n",
    "))\n"
   ]
  },
  {
   "cell_type": "code",
   "execution_count": 18,
   "metadata": {},
   "outputs": [
    {
     "name": "stdout",
     "output_type": "stream",
     "text": [
      "0.5475\n",
      "0.15125\n"
     ]
    }
   ],
   "source": [
    "conclusion_numbers = list(map(lambda x: int(x.result.message.content[0].text), results_conclusion))\n",
    "verification_numbers = list(map(lambda x: int(x.result.message.content[0].text), results_verification))\n",
    "\n",
    "def proportion_equal(numbers, value):\n",
    "    # return the proportion of numbers that are equal to value\n",
    "    return sum(1 for number in numbers if number == value) / len(numbers)\n",
    "\n",
    "print(proportion_equal(conclusion_numbers, 1))\n",
    "print(proportion_equal(verification_numbers, 1))"
   ]
  }
 ],
 "metadata": {
  "kernelspec": {
   "display_name": "mats2",
   "language": "python",
   "name": "python3"
  },
  "language_info": {
   "codemirror_mode": {
    "name": "ipython",
    "version": 3
   },
   "file_extension": ".py",
   "mimetype": "text/x-python",
   "name": "python",
   "nbconvert_exporter": "python",
   "pygments_lexer": "ipython3",
   "version": "3.12.3"
  }
 },
 "nbformat": 4,
 "nbformat_minor": 2
}
